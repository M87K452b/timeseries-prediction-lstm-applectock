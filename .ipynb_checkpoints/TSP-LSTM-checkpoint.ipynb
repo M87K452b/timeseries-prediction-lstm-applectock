{
 "cells": [
  {
   "cell_type": "markdown",
   "metadata": {},
   "source": [
    "# Time series prediction of apple stock - Closing price"
   ]
  },
  {
   "cell_type": "markdown",
   "metadata": {},
   "source": [
    "## Package Install - if necessary"
   ]
  },
  {
   "cell_type": "code",
   "execution_count": 1,
   "metadata": {},
   "outputs": [],
   "source": [
    "#!conda install --yes -c anaconda pandas-datareader"
   ]
  },
  {
   "cell_type": "markdown",
   "metadata": {},
   "source": [
    "## Source for the Methodology\n",
    "\n",
    "https://machinelearningmastery.com/how-to-develop-lstm-models-for-time-series-forecasting/"
   ]
  },
  {
   "cell_type": "markdown",
   "metadata": {},
   "source": [
    "## Import necessary libraries"
   ]
  },
  {
   "cell_type": "code",
   "execution_count": 2,
   "metadata": {},
   "outputs": [],
   "source": [
    "import math\n",
    "import pandas_datareader as web\n",
    "import numpy as np\n",
    "import pandas as pd\n",
    "from sklearn.preprocessing import MinMaxScaler\n",
    "from keras.models import Sequential\n",
    "from keras.layers import Dense, LSTM # LSTM - Long Short Term Memory\n",
    "import matplotlib.pyplot as plt\n",
    "%matplotlib inline"
   ]
  },
  {
   "cell_type": "markdown",
   "metadata": {},
   "source": [
    "## Get Stock Data from web"
   ]
  },
  {
   "cell_type": "code",
   "execution_count": 3,
   "metadata": {},
   "outputs": [],
   "source": [
    "#df = web.DataReader('AAPL', data_source='yahoo', start='2012-01-01', end='2020-12-20')\n",
    "df = web.DataReader('TSLA', data_source='yahoo', start='2012-01-01', end='2020-12-20')"
   ]
  },
  {
   "cell_type": "code",
   "execution_count": 4,
   "metadata": {},
   "outputs": [
    {
     "data": {
      "text/html": [
       "<div>\n",
       "<style scoped>\n",
       "    .dataframe tbody tr th:only-of-type {\n",
       "        vertical-align: middle;\n",
       "    }\n",
       "\n",
       "    .dataframe tbody tr th {\n",
       "        vertical-align: top;\n",
       "    }\n",
       "\n",
       "    .dataframe thead th {\n",
       "        text-align: right;\n",
       "    }\n",
       "</style>\n",
       "<table border=\"1\" class=\"dataframe\">\n",
       "  <thead>\n",
       "    <tr style=\"text-align: right;\">\n",
       "      <th></th>\n",
       "      <th>High</th>\n",
       "      <th>Low</th>\n",
       "      <th>Open</th>\n",
       "      <th>Close</th>\n",
       "      <th>Volume</th>\n",
       "      <th>Adj Close</th>\n",
       "    </tr>\n",
       "    <tr>\n",
       "      <th>Date</th>\n",
       "      <th></th>\n",
       "      <th></th>\n",
       "      <th></th>\n",
       "      <th></th>\n",
       "      <th></th>\n",
       "      <th></th>\n",
       "    </tr>\n",
       "  </thead>\n",
       "  <tbody>\n",
       "    <tr>\n",
       "      <th>2012-01-03</th>\n",
       "      <td>5.900</td>\n",
       "      <td>5.530</td>\n",
       "      <td>5.788</td>\n",
       "      <td>5.616</td>\n",
       "      <td>4640500.0</td>\n",
       "      <td>5.616</td>\n",
       "    </tr>\n",
       "    <tr>\n",
       "      <th>2012-01-04</th>\n",
       "      <td>5.734</td>\n",
       "      <td>5.500</td>\n",
       "      <td>5.642</td>\n",
       "      <td>5.542</td>\n",
       "      <td>3150500.0</td>\n",
       "      <td>5.542</td>\n",
       "    </tr>\n",
       "    <tr>\n",
       "      <th>2012-01-05</th>\n",
       "      <td>5.586</td>\n",
       "      <td>5.370</td>\n",
       "      <td>5.552</td>\n",
       "      <td>5.424</td>\n",
       "      <td>5027500.0</td>\n",
       "      <td>5.424</td>\n",
       "    </tr>\n",
       "    <tr>\n",
       "      <th>2012-01-06</th>\n",
       "      <td>5.558</td>\n",
       "      <td>5.282</td>\n",
       "      <td>5.440</td>\n",
       "      <td>5.382</td>\n",
       "      <td>4931500.0</td>\n",
       "      <td>5.382</td>\n",
       "    </tr>\n",
       "    <tr>\n",
       "      <th>2012-01-09</th>\n",
       "      <td>5.498</td>\n",
       "      <td>5.224</td>\n",
       "      <td>5.400</td>\n",
       "      <td>5.450</td>\n",
       "      <td>4485000.0</td>\n",
       "      <td>5.450</td>\n",
       "    </tr>\n",
       "  </tbody>\n",
       "</table>\n",
       "</div>"
      ],
      "text/plain": [
       "             High    Low   Open  Close     Volume  Adj Close\n",
       "Date                                                        \n",
       "2012-01-03  5.900  5.530  5.788  5.616  4640500.0      5.616\n",
       "2012-01-04  5.734  5.500  5.642  5.542  3150500.0      5.542\n",
       "2012-01-05  5.586  5.370  5.552  5.424  5027500.0      5.424\n",
       "2012-01-06  5.558  5.282  5.440  5.382  4931500.0      5.382\n",
       "2012-01-09  5.498  5.224  5.400  5.450  4485000.0      5.450"
      ]
     },
     "execution_count": 4,
     "metadata": {},
     "output_type": "execute_result"
    }
   ],
   "source": [
    "df.head()"
   ]
  },
  {
   "cell_type": "code",
   "execution_count": 5,
   "metadata": {},
   "outputs": [
    {
     "data": {
      "text/html": [
       "<div>\n",
       "<style scoped>\n",
       "    .dataframe tbody tr th:only-of-type {\n",
       "        vertical-align: middle;\n",
       "    }\n",
       "\n",
       "    .dataframe tbody tr th {\n",
       "        vertical-align: top;\n",
       "    }\n",
       "\n",
       "    .dataframe thead th {\n",
       "        text-align: right;\n",
       "    }\n",
       "</style>\n",
       "<table border=\"1\" class=\"dataframe\">\n",
       "  <thead>\n",
       "    <tr style=\"text-align: right;\">\n",
       "      <th></th>\n",
       "      <th>High</th>\n",
       "      <th>Low</th>\n",
       "      <th>Open</th>\n",
       "      <th>Close</th>\n",
       "      <th>Volume</th>\n",
       "      <th>Adj Close</th>\n",
       "    </tr>\n",
       "    <tr>\n",
       "      <th>Date</th>\n",
       "      <th></th>\n",
       "      <th></th>\n",
       "      <th></th>\n",
       "      <th></th>\n",
       "      <th></th>\n",
       "      <th></th>\n",
       "    </tr>\n",
       "  </thead>\n",
       "  <tbody>\n",
       "    <tr>\n",
       "      <th>2020-12-14</th>\n",
       "      <td>642.750000</td>\n",
       "      <td>610.200012</td>\n",
       "      <td>619.000000</td>\n",
       "      <td>639.830017</td>\n",
       "      <td>52040600.0</td>\n",
       "      <td>639.830017</td>\n",
       "    </tr>\n",
       "    <tr>\n",
       "      <th>2020-12-15</th>\n",
       "      <td>646.900024</td>\n",
       "      <td>623.799988</td>\n",
       "      <td>643.280029</td>\n",
       "      <td>633.250000</td>\n",
       "      <td>45223600.0</td>\n",
       "      <td>633.250000</td>\n",
       "    </tr>\n",
       "    <tr>\n",
       "      <th>2020-12-16</th>\n",
       "      <td>632.500000</td>\n",
       "      <td>605.000000</td>\n",
       "      <td>628.229980</td>\n",
       "      <td>622.770020</td>\n",
       "      <td>42095800.0</td>\n",
       "      <td>622.770020</td>\n",
       "    </tr>\n",
       "    <tr>\n",
       "      <th>2020-12-17</th>\n",
       "      <td>658.820007</td>\n",
       "      <td>619.500000</td>\n",
       "      <td>628.190002</td>\n",
       "      <td>655.900024</td>\n",
       "      <td>56270100.0</td>\n",
       "      <td>655.900024</td>\n",
       "    </tr>\n",
       "    <tr>\n",
       "      <th>2020-12-18</th>\n",
       "      <td>695.000000</td>\n",
       "      <td>628.539978</td>\n",
       "      <td>668.900024</td>\n",
       "      <td>695.000000</td>\n",
       "      <td>222126200.0</td>\n",
       "      <td>695.000000</td>\n",
       "    </tr>\n",
       "  </tbody>\n",
       "</table>\n",
       "</div>"
      ],
      "text/plain": [
       "                  High         Low        Open       Close       Volume  \\\n",
       "Date                                                                      \n",
       "2020-12-14  642.750000  610.200012  619.000000  639.830017   52040600.0   \n",
       "2020-12-15  646.900024  623.799988  643.280029  633.250000   45223600.0   \n",
       "2020-12-16  632.500000  605.000000  628.229980  622.770020   42095800.0   \n",
       "2020-12-17  658.820007  619.500000  628.190002  655.900024   56270100.0   \n",
       "2020-12-18  695.000000  628.539978  668.900024  695.000000  222126200.0   \n",
       "\n",
       "             Adj Close  \n",
       "Date                    \n",
       "2020-12-14  639.830017  \n",
       "2020-12-15  633.250000  \n",
       "2020-12-16  622.770020  \n",
       "2020-12-17  655.900024  \n",
       "2020-12-18  695.000000  "
      ]
     },
     "execution_count": 5,
     "metadata": {},
     "output_type": "execute_result"
    }
   ],
   "source": [
    "df.tail()"
   ]
  },
  {
   "cell_type": "code",
   "execution_count": 6,
   "metadata": {},
   "outputs": [
    {
     "name": "stdout",
     "output_type": "stream",
     "text": [
      "Shape:  (2257, 6)\n"
     ]
    },
    {
     "data": {
      "text/html": [
       "<div>\n",
       "<style scoped>\n",
       "    .dataframe tbody tr th:only-of-type {\n",
       "        vertical-align: middle;\n",
       "    }\n",
       "\n",
       "    .dataframe tbody tr th {\n",
       "        vertical-align: top;\n",
       "    }\n",
       "\n",
       "    .dataframe thead th {\n",
       "        text-align: right;\n",
       "    }\n",
       "</style>\n",
       "<table border=\"1\" class=\"dataframe\">\n",
       "  <thead>\n",
       "    <tr style=\"text-align: right;\">\n",
       "      <th></th>\n",
       "      <th>High</th>\n",
       "      <th>Low</th>\n",
       "      <th>Open</th>\n",
       "      <th>Close</th>\n",
       "      <th>Volume</th>\n",
       "      <th>Adj Close</th>\n",
       "    </tr>\n",
       "  </thead>\n",
       "  <tbody>\n",
       "    <tr>\n",
       "      <th>count</th>\n",
       "      <td>2257.000000</td>\n",
       "      <td>2257.000000</td>\n",
       "      <td>2257.000000</td>\n",
       "      <td>2257.000000</td>\n",
       "      <td>2.257000e+03</td>\n",
       "      <td>2257.000000</td>\n",
       "    </tr>\n",
       "    <tr>\n",
       "      <th>mean</th>\n",
       "      <td>69.561088</td>\n",
       "      <td>66.458734</td>\n",
       "      <td>68.037996</td>\n",
       "      <td>68.133454</td>\n",
       "      <td>3.445729e+07</td>\n",
       "      <td>68.133454</td>\n",
       "    </tr>\n",
       "    <tr>\n",
       "      <th>std</th>\n",
       "      <td>93.733595</td>\n",
       "      <td>88.340801</td>\n",
       "      <td>91.108217</td>\n",
       "      <td>91.531800</td>\n",
       "      <td>2.874256e+07</td>\n",
       "      <td>91.531800</td>\n",
       "    </tr>\n",
       "    <tr>\n",
       "      <th>min</th>\n",
       "      <td>5.370000</td>\n",
       "      <td>4.528000</td>\n",
       "      <td>5.324000</td>\n",
       "      <td>4.558000</td>\n",
       "      <td>1.824500e+06</td>\n",
       "      <td>4.558000</td>\n",
       "    </tr>\n",
       "    <tr>\n",
       "      <th>25%</th>\n",
       "      <td>38.377998</td>\n",
       "      <td>36.790001</td>\n",
       "      <td>37.650002</td>\n",
       "      <td>37.712002</td>\n",
       "      <td>1.660100e+07</td>\n",
       "      <td>37.712002</td>\n",
       "    </tr>\n",
       "    <tr>\n",
       "      <th>50%</th>\n",
       "      <td>48.099998</td>\n",
       "      <td>46.400002</td>\n",
       "      <td>47.231998</td>\n",
       "      <td>47.382000</td>\n",
       "      <td>2.739450e+07</td>\n",
       "      <td>47.382000</td>\n",
       "    </tr>\n",
       "    <tr>\n",
       "      <th>75%</th>\n",
       "      <td>64.195999</td>\n",
       "      <td>62.037998</td>\n",
       "      <td>63.200001</td>\n",
       "      <td>63.217999</td>\n",
       "      <td>4.254550e+07</td>\n",
       "      <td>63.217999</td>\n",
       "    </tr>\n",
       "    <tr>\n",
       "      <th>max</th>\n",
       "      <td>695.000000</td>\n",
       "      <td>628.539978</td>\n",
       "      <td>668.900024</td>\n",
       "      <td>695.000000</td>\n",
       "      <td>3.046940e+08</td>\n",
       "      <td>695.000000</td>\n",
       "    </tr>\n",
       "  </tbody>\n",
       "</table>\n",
       "</div>"
      ],
      "text/plain": [
       "              High          Low         Open        Close        Volume  \\\n",
       "count  2257.000000  2257.000000  2257.000000  2257.000000  2.257000e+03   \n",
       "mean     69.561088    66.458734    68.037996    68.133454  3.445729e+07   \n",
       "std      93.733595    88.340801    91.108217    91.531800  2.874256e+07   \n",
       "min       5.370000     4.528000     5.324000     4.558000  1.824500e+06   \n",
       "25%      38.377998    36.790001    37.650002    37.712002  1.660100e+07   \n",
       "50%      48.099998    46.400002    47.231998    47.382000  2.739450e+07   \n",
       "75%      64.195999    62.037998    63.200001    63.217999  4.254550e+07   \n",
       "max     695.000000   628.539978   668.900024   695.000000  3.046940e+08   \n",
       "\n",
       "         Adj Close  \n",
       "count  2257.000000  \n",
       "mean     68.133454  \n",
       "std      91.531800  \n",
       "min       4.558000  \n",
       "25%      37.712002  \n",
       "50%      47.382000  \n",
       "75%      63.217999  \n",
       "max     695.000000  "
      ]
     },
     "execution_count": 6,
     "metadata": {},
     "output_type": "execute_result"
    }
   ],
   "source": [
    "# Get data description\n",
    "print('Shape: ',df.shape)\n",
    "df.describe()"
   ]
  },
  {
   "cell_type": "markdown",
   "metadata": {},
   "source": [
    "## Visualize data of interest"
   ]
  },
  {
   "cell_type": "code",
   "execution_count": 7,
   "metadata": {},
   "outputs": [
    {
     "data": {
      "image/png": "[encoded data removed]",
      "text/plain": [
       "<Figure size 1152x576 with 1 Axes>"
      ]
     },
     "metadata": {
      "needs_background": "light"
     },
     "output_type": "display_data"
    }
   ],
   "source": [
    "plt.figure(figsize=(16,8))\n",
    "plt.title('Closing Price Trend')\n",
    "plt.plot(df['Close'])\n",
    "plt.xlabel('Date', fontsize=10)\n",
    "plt.ylabel('Closing Price - USD', fontsize = 10)\n",
    "plt.grid('On')\n",
    "plt.show()"
   ]
  },
  {
   "cell_type": "markdown",
   "metadata": {},
   "source": [
    "## Create a new data frame with only 'Close' column - closing price."
   ]
  },
  {
   "cell_type": "code",
   "execution_count": 8,
   "metadata": {},
   "outputs": [],
   "source": [
    "data = df.filter(['Close'])\n",
    "# Convert the data to a numpy array ----> This help us in training\n",
    "dataset = data.values\n",
    "# Allot some portion of data to train the model on\n",
    "training_data_len = math.ceil( len(dataset) *.8)"
   ]
  },
  {
   "cell_type": "code",
   "execution_count": 9,
   "metadata": {},
   "outputs": [
    {
     "data": {
      "text/plain": [
       "1806"
      ]
     },
     "execution_count": 9,
     "metadata": {},
     "output_type": "execute_result"
    }
   ],
   "source": [
    "training_data_len"
   ]
  },
  {
   "cell_type": "markdown",
   "metadata": {},
   "source": [
    "## Scale the data\n",
    "This is necessary to train the data. It scales values such that they are between 0 and 1."
   ]
  },
  {
   "cell_type": "code",
   "execution_count": 10,
   "metadata": {},
   "outputs": [],
   "source": [
    "scaler = MinMaxScaler(feature_range=(0,1))\n",
    "scaled_data = scaler.fit_transform(dataset)"
   ]
  },
  {
   "cell_type": "code",
   "execution_count": 11,
   "metadata": {},
   "outputs": [
    {
     "data": {
      "text/plain": [
       "(2257, 1)"
      ]
     },
     "execution_count": 11,
     "metadata": {},
     "output_type": "execute_result"
    }
   ],
   "source": [
    "scaled_data\n",
    "scaled_data.shape"
   ]
  },
  {
   "cell_type": "markdown",
   "metadata": {},
   "source": [
    "## Create the training data set from scaled data"
   ]
  },
  {
   "cell_type": "code",
   "execution_count": 12,
   "metadata": {},
   "outputs": [],
   "source": [
    "train_data = scaled_data[0:training_data_len,:]\n",
    "# split data to x_train and y_train\n",
    "x_train = [] # Independent traing variable\n",
    "y_train = [] # Dependent training variable\n",
    "\n",
    "for i in range(60, len(train_data)):\n",
    "    x_train.append(train_data[i-60:i,0])\n",
    "    y_train.append(train_data[i,0])"
   ]
  },
  {
   "cell_type": "code",
   "execution_count": 13,
   "metadata": {},
   "outputs": [],
   "source": [
    "# Convert x_train & y_train to numpy arrays\n",
    "x_train,y_train=np.array(x_train),np.array(y_train)"
   ]
  },
  {
   "cell_type": "code",
   "execution_count": 14,
   "metadata": {},
   "outputs": [
    {
     "data": {
      "text/plain": [
       "(1746, 60, 1)"
      ]
     },
     "execution_count": 14,
     "metadata": {},
     "output_type": "execute_result"
    }
   ],
   "source": [
    "# Reshape the data - Because LSTM Expects 3D\n",
    "x_train = np.reshape(x_train,(x_train.shape[0],x_train.shape[1],1))\n",
    "x_train.shape"
   ]
  },
  {
   "cell_type": "markdown",
   "metadata": {},
   "source": [
    "## Create Testing data set to eavluate our modal"
   ]
  },
  {
   "cell_type": "code",
   "execution_count": 15,
   "metadata": {},
   "outputs": [],
   "source": [
    "# New scaled values to that was not used in training\n",
    "# That is from index 1807 to 2256 in the original data set\n",
    "test_data = scaled_data[training_data_len - 60: , : ]\n",
    "#Create the x_test and y_test data sets\n",
    "x_test = []\n",
    "y_test =  dataset[training_data_len : , : ]\n",
    "for i in range(60,len(test_data)):\n",
    "    x_test.append(test_data[i-60:i,0])"
   ]
  },
  {
   "cell_type": "code",
   "execution_count": 16,
   "metadata": {},
   "outputs": [
    {
     "data": {
      "text/plain": [
       "(451, 60)"
      ]
     },
     "execution_count": 16,
     "metadata": {},
     "output_type": "execute_result"
    }
   ],
   "source": [
    "# Convert data to numpy\n",
    "x_test = np.array(x_test)\n",
    "x_test.shape"
   ]
  },
  {
   "cell_type": "code",
   "execution_count": 17,
   "metadata": {},
   "outputs": [],
   "source": [
    "x_test = np.reshape(x_test,(x_test.shape[0],x_test.shape[1],1))"
   ]
  },
  {
   "cell_type": "markdown",
   "metadata": {},
   "source": [
    "# Create Model for training"
   ]
  },
  {
   "cell_type": "markdown",
   "metadata": {},
   "source": [
    "## Model 1 - LSTM Vanilla"
   ]
  },
  {
   "cell_type": "code",
   "execution_count": 18,
   "metadata": {},
   "outputs": [],
   "source": [
    "model1 = Sequential()\n",
    "model1.add(LSTM(50, activation='relu', input_shape=(x_train.shape[1],1)))\n",
    "model1.add(Dense(1))"
   ]
  },
  {
   "cell_type": "markdown",
   "metadata": {},
   "source": [
    "## Model 2 - LSTM Stacked"
   ]
  },
  {
   "cell_type": "code",
   "execution_count": 19,
   "metadata": {},
   "outputs": [],
   "source": [
    "# Build the LSTM model\n",
    "model2 = Sequential()\n",
    "model2.add(LSTM(50,activation='relu',return_sequences=True,input_shape=(x_train.shape[1],1)))\n",
    "model2.add(LSTM(50))\n",
    "model2.add(Dense(25))\n",
    "model2.add(Dense(1))"
   ]
  },
  {
   "cell_type": "markdown",
   "metadata": {},
   "source": [
    "### Compile the models"
   ]
  },
  {
   "cell_type": "code",
   "execution_count": 20,
   "metadata": {},
   "outputs": [],
   "source": [
    "model1.compile(optimizer='adam',loss='mean_squared_error',metrics=['accuracy'])"
   ]
  },
  {
   "cell_type": "code",
   "execution_count": 21,
   "metadata": {},
   "outputs": [],
   "source": [
    "model2.compile(optimizer='adam',loss='mean_squared_error',metrics=['accuracy'])"
   ]
  },
  {
   "cell_type": "markdown",
   "metadata": {},
   "source": [
    "### Fit the models"
   ]
  },
  {
   "cell_type": "code",
   "execution_count": null,
   "metadata": {},
   "outputs": [
    {
     "name": "stdout",
     "output_type": "stream",
     "text": [
      " 438/1746 [======>.......................] - ETA: 1:11 - loss: 1.5957e-04 - accuracy: 0.0000e+00"
     ]
    }
   ],
   "source": [
    "model1.fit(x_train,y_train,batch_size=1,epochs=1)"
   ]
  },
  {
   "cell_type": "code",
   "execution_count": null,
   "metadata": {},
   "outputs": [],
   "source": [
    "model2.fit(x_train,y_train,batch_size=1,epochs=1)"
   ]
  },
  {
   "cell_type": "markdown",
   "metadata": {},
   "source": [
    "## Let there be predictions"
   ]
  },
  {
   "cell_type": "code",
   "execution_count": null,
   "metadata": {},
   "outputs": [],
   "source": [
    "predictions1 = model1.predict(x_test)\n",
    "predictions1 = scaler.inverse_transform(predictions1) # Make the scaled data back to dollar value"
   ]
  },
  {
   "cell_type": "code",
   "execution_count": null,
   "metadata": {},
   "outputs": [],
   "source": [
    "predictions2 = model2.predict(x_test)\n",
    "predictions2 = scaler.inverse_transform(predictions2) # Make the scaled data back to dollar value"
   ]
  },
  {
   "cell_type": "markdown",
   "metadata": {},
   "source": [
    "### Root mean squared error for both models"
   ]
  },
  {
   "cell_type": "code",
   "execution_count": null,
   "metadata": {},
   "outputs": [],
   "source": [
    "rmse_model1=np.sqrt(np.mean(((predictions1- y_test)**2)))\n",
    "rmse_model1"
   ]
  },
  {
   "cell_type": "code",
   "execution_count": null,
   "metadata": {},
   "outputs": [],
   "source": [
    "rmse_model2=np.sqrt(np.mean(((predictions2- y_test)**2)))\n",
    "rmse_model2"
   ]
  },
  {
   "cell_type": "markdown",
   "metadata": {},
   "source": [
    "### Plot the data"
   ]
  },
  {
   "cell_type": "code",
   "execution_count": null,
   "metadata": {},
   "outputs": [],
   "source": [
    "train = data[:training_data_len]\n",
    "valid = data[training_data_len:]\n",
    "valid['Predictions_1'] = predictions1\n",
    "valid['Predictions_2'] = predictions2"
   ]
  },
  {
   "cell_type": "markdown",
   "metadata": {},
   "source": [
    "## Visualize the data"
   ]
  },
  {
   "cell_type": "code",
   "execution_count": null,
   "metadata": {},
   "outputs": [],
   "source": [
    "plt.figure(figsize=(16,8))\n",
    "plt.title('Actual Data Vs Predicted Data')\n",
    "plt.xlabel('Date', fontsize=18)\n",
    "plt.ylabel('Close Price USD', fontsize=18)\n",
    "plt.plot(train['Close'])\n",
    "plt.plot(valid[['Close', 'Predictions_1']])\n",
    "plt.plot(valid[['Close', 'Predictions_2']])\n",
    "plt.legend(['Train', 'Val', 'Predictions_1', 'Predictions_2'], loc='lower right')\n",
    "plt.grid('On')\n",
    "plt.show()"
   ]
  },
  {
   "cell_type": "code",
   "execution_count": null,
   "metadata": {},
   "outputs": [],
   "source": [
    "plt.figure(figsize=(16,8))\n",
    "plt.title('Predictions Vs Actual Value - Close up')\n",
    "plt.xlabel('Date', fontsize=18)\n",
    "plt.ylabel('Close Price USD', fontsize=18)\n",
    "plt.plot(valid[['Close']])\n",
    "plt.plot(valid[['Predictions_1']])\n",
    "plt.plot(valid[['Predictions_2']])\n",
    "plt.legend(['Close','Predictions_1', 'Predictions_2'], loc='lower right')\n",
    "plt.grid('On')\n",
    "plt.show()"
   ]
  },
  {
   "cell_type": "code",
   "execution_count": null,
   "metadata": {},
   "outputs": [],
   "source": [
    "valid['Close']"
   ]
  },
  {
   "cell_type": "code",
   "execution_count": null,
   "metadata": {},
   "outputs": [],
   "source": []
  }
 ],
 "metadata": {
  "kernelspec": {
   "display_name": "Python 3",
   "language": "python",
   "name": "python3"
  },
  "language_info": {
   "codemirror_mode": {
    "name": "ipython",
    "version": 3
   },
   "file_extension": ".py",
   "mimetype": "text/x-python",
   "name": "python",
   "nbconvert_exporter": "python",
   "pygments_lexer": "ipython3",
   "version": "3.8.5"
  }
 },
 "nbformat": 4,
 "nbformat_minor": 4
}
